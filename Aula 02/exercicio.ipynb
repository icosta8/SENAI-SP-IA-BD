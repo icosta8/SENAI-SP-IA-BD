{
 "cells": [
  {
   "cell_type": "code",
   "execution_count": 2,
   "id": "50d125b4",
   "metadata": {},
   "outputs": [],
   "source": [
    "import pandas as pd"
   ]
  },
  {
   "cell_type": "code",
   "execution_count": null,
   "id": "4e226921",
   "metadata": {},
   "outputs": [
    {
     "name": "stdout",
     "output_type": "stream",
     "text": [
      "    Nomes  Idade               Profissoes  ID\n",
      "0   Alice     19                  Direito   1\n",
      "1   Julia     22               Engenharia   2\n",
      "2   Bruna     28               Enfermagem   3\n",
      "3  Daniel     34         Engenharia Civil   4\n",
      "4  Filipe     28  Cientista da Computação   5\n",
      "5   Silvo     48    Engenheiro Eletronico   6\n"
     ]
    }
   ],
   "source": [
    "# Ex 01\n",
    "dicionario = {\n",
    "    'Nomes': ['Alice', 'Julia', 'Bruna', 'Daniel', 'Filipe', 'Silvo'],\n",
    "    'Idade': [19, 22, 28, 34, 28, 48],\n",
    "    'Profissoes': ['Direito', 'Engenharia', 'Enfermagem', 'Engenharia Civil', 'Cientista da Computação', 'Engenheiro Eletronico'],\n",
    "    'ID': [1,2,3,4,5,6]\n",
    "}\n",
    "\n",
    "df_01 = pd.DataFrame(dicionario)\n",
    "\n",
    "print(df_01)"
   ]
  },
  {
   "cell_type": "code",
   "execution_count": 5,
   "id": "e9b811ac",
   "metadata": {},
   "outputs": [
    {
     "name": "stdout",
     "output_type": "stream",
     "text": [
      "   Numero de produtos fabricados  Setores\n",
      "0                             50        1\n",
      "1                             30        2\n",
      "2                             40        3\n",
      "3                            100        4\n"
     ]
    }
   ],
   "source": [
    "# Ex 02\n",
    "\n",
    "dicionario02 = {\n",
    "    'Numero de produtos fabricados': [50,30,40,100],\n",
    "    'Setores': [1,2,3,4]\n",
    "}\n",
    "\n",
    "df_02 = pd.DataFrame(dicionario02)\n",
    "\n",
    "print(df_02)"
   ]
  },
  {
   "cell_type": "code",
   "execution_count": 7,
   "id": "f3830a51",
   "metadata": {},
   "outputs": [
    {
     "data": {
      "text/html": [
       "<div>\n",
       "<style scoped>\n",
       "    .dataframe tbody tr th:only-of-type {\n",
       "        vertical-align: middle;\n",
       "    }\n",
       "\n",
       "    .dataframe tbody tr th {\n",
       "        vertical-align: top;\n",
       "    }\n",
       "\n",
       "    .dataframe thead th {\n",
       "        text-align: right;\n",
       "    }\n",
       "</style>\n",
       "<table border=\"1\" class=\"dataframe\">\n",
       "  <thead>\n",
       "    <tr style=\"text-align: right;\">\n",
       "      <th></th>\n",
       "      <th>ID</th>\n",
       "      <th>Nome</th>\n",
       "      <th>Setores</th>\n",
       "      <th>Salarios</th>\n",
       "    </tr>\n",
       "  </thead>\n",
       "  <tbody>\n",
       "    <tr>\n",
       "      <th>0</th>\n",
       "      <td>1</td>\n",
       "      <td>Ana</td>\n",
       "      <td>RH</td>\n",
       "      <td>3000</td>\n",
       "    </tr>\n",
       "    <tr>\n",
       "      <th>1</th>\n",
       "      <td>2</td>\n",
       "      <td>Pedro</td>\n",
       "      <td>Vendas</td>\n",
       "      <td>2800</td>\n",
       "    </tr>\n",
       "    <tr>\n",
       "      <th>2</th>\n",
       "      <td>3</td>\n",
       "      <td>Maria</td>\n",
       "      <td>Administrativo</td>\n",
       "      <td>3200</td>\n",
       "    </tr>\n",
       "    <tr>\n",
       "      <th>3</th>\n",
       "      <td>4</td>\n",
       "      <td>João</td>\n",
       "      <td>Producao</td>\n",
       "      <td>2500</td>\n",
       "    </tr>\n",
       "  </tbody>\n",
       "</table>\n",
       "</div>"
      ],
      "text/plain": [
       "   ID   Nome         Setores  Salarios\n",
       "0   1    Ana              RH      3000\n",
       "1   2  Pedro          Vendas      2800\n",
       "2   3  Maria  Administrativo      3200\n",
       "3   4   João        Producao      2500"
      ]
     },
     "execution_count": 7,
     "metadata": {},
     "output_type": "execute_result"
    }
   ],
   "source": [
    "# Ex 03\n",
    "\n",
    "dicionario03 = {\n",
    "    'ID': [1,2,3,4],\n",
    "    'Nome': ['Ana', 'Pedro', 'Maria', 'João'],\n",
    "    'Setores': ['RH', 'Vendas', 'Administrativo', 'Producao']\n",
    "}\n",
    "\n",
    "dicionario04 = {\n",
    "    'ID': [1,2,3,4],\n",
    "    'Salarios': [3000, 2800, 3200, 2500]\n",
    "}\n",
    "\n",
    "df_03 = pd.DataFrame(dicionario03)\n",
    "df_04 = pd.DataFrame(dicionario04)\n",
    "\n",
    "pd.merge(df_03, df_04, how='inner', on='ID')\n"
   ]
  },
  {
   "cell_type": "code",
   "execution_count": null,
   "id": "2d61e371",
   "metadata": {},
   "outputs": [],
   "source": []
  }
 ],
 "metadata": {
  "kernelspec": {
   "display_name": "Python 3",
   "language": "python",
   "name": "python3"
  },
  "language_info": {
   "codemirror_mode": {
    "name": "ipython",
    "version": 3
   },
   "file_extension": ".py",
   "mimetype": "text/x-python",
   "name": "python",
   "nbconvert_exporter": "python",
   "pygments_lexer": "ipython3",
   "version": "3.13.1"
  }
 },
 "nbformat": 4,
 "nbformat_minor": 5
}
