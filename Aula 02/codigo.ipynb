{
 "cells": [
  {
   "cell_type": "code",
   "execution_count": 41,
   "id": "58fb2163",
   "metadata": {},
   "outputs": [],
   "source": [
    "#Aula 2 "
   ]
  },
  {
   "cell_type": "code",
   "execution_count": 42,
   "id": "a1cf2937",
   "metadata": {},
   "outputs": [],
   "source": [
    "# Bibliotecas\n",
    "\n",
    "import pandas as pd"
   ]
  },
  {
   "cell_type": "code",
   "execution_count": 43,
   "id": "62da10a5",
   "metadata": {},
   "outputs": [],
   "source": [
    "# Processamento de dados\n",
    "\n",
    "dicionario = {'A': [1,2,3],\n",
    "              'B': [-3,-2,-1],\n",
    "              'C': [0,10,20]}\n",
    "\n",
    "label = ['1 Linha', '2 Linha', '3 Linha']\n",
    "\n",
    "df_01 = pd.DataFrame(dicionario, index=label)\n"
   ]
  },
  {
   "cell_type": "code",
   "execution_count": 44,
   "id": "b46210d8",
   "metadata": {},
   "outputs": [
    {
     "name": "stdout",
     "output_type": "stream",
     "text": [
      "         A  B   C\n",
      "1 Linha  1 -3   0\n",
      "2 Linha  2 -2  10\n",
      "3 Linha  3 -1  20\n"
     ]
    }
   ],
   "source": [
    "print(df_01)"
   ]
  },
  {
   "cell_type": "code",
   "execution_count": 45,
   "id": "71ee267f",
   "metadata": {},
   "outputs": [
    {
     "data": {
      "text/html": [
       "<div>\n",
       "<style scoped>\n",
       "    .dataframe tbody tr th:only-of-type {\n",
       "        vertical-align: middle;\n",
       "    }\n",
       "\n",
       "    .dataframe tbody tr th {\n",
       "        vertical-align: top;\n",
       "    }\n",
       "\n",
       "    .dataframe thead th {\n",
       "        text-align: right;\n",
       "    }\n",
       "</style>\n",
       "<table border=\"1\" class=\"dataframe\">\n",
       "  <thead>\n",
       "    <tr style=\"text-align: right;\">\n",
       "      <th></th>\n",
       "      <th>A</th>\n",
       "      <th>C</th>\n",
       "    </tr>\n",
       "  </thead>\n",
       "  <tbody>\n",
       "    <tr>\n",
       "      <th>1 Linha</th>\n",
       "      <td>1</td>\n",
       "      <td>0</td>\n",
       "    </tr>\n",
       "    <tr>\n",
       "      <th>2 Linha</th>\n",
       "      <td>2</td>\n",
       "      <td>10</td>\n",
       "    </tr>\n",
       "    <tr>\n",
       "      <th>3 Linha</th>\n",
       "      <td>3</td>\n",
       "      <td>20</td>\n",
       "    </tr>\n",
       "  </tbody>\n",
       "</table>\n",
       "</div>"
      ],
      "text/plain": [
       "         A   C\n",
       "1 Linha  1   0\n",
       "2 Linha  2  10\n",
       "3 Linha  3  20"
      ]
     },
     "execution_count": 45,
     "metadata": {},
     "output_type": "execute_result"
    }
   ],
   "source": [
    "df_01[['A', 'C']]"
   ]
  },
  {
   "cell_type": "code",
   "execution_count": 46,
   "id": "18a2f64a",
   "metadata": {},
   "outputs": [
    {
     "name": "stdout",
     "output_type": "stream",
     "text": [
      "         A  B   C  D\n",
      "1 Linha  1 -3   0 -3\n",
      "2 Linha  2 -2  10 -4\n",
      "3 Linha  3 -1  20 -3\n"
     ]
    }
   ],
   "source": [
    "df_01['D'] = df_01['A']*df_01['B']\n",
    "print(df_01)"
   ]
  },
  {
   "cell_type": "code",
   "execution_count": 47,
   "id": "591ca1ff",
   "metadata": {},
   "outputs": [
    {
     "name": "stdout",
     "output_type": "stream",
     "text": [
      "         A  B   C  D\n",
      "1 Linha  1 -3   0 -3\n",
      "2 Linha  2 -2  10 -4\n",
      "3 Linha  3 -1  20 -3\n"
     ]
    }
   ],
   "source": [
    "df_01.drop('D', axis=1)\n",
    "print(df_01)"
   ]
  },
  {
   "cell_type": "code",
   "execution_count": 48,
   "id": "9abbe2bb",
   "metadata": {},
   "outputs": [
    {
     "name": "stdout",
     "output_type": "stream",
     "text": [
      "         A  B   C\n",
      "1 Linha  1 -3   0\n",
      "2 Linha  2 -2  10\n",
      "3 Linha  3 -1  20\n"
     ]
    }
   ],
   "source": [
    "df_01.drop('D', axis=1, inplace=True)\n",
    "print(df_01)"
   ]
  },
  {
   "cell_type": "code",
   "execution_count": 49,
   "id": "0598397f",
   "metadata": {},
   "outputs": [
    {
     "data": {
      "text/plain": [
       "A     2\n",
       "B    -2\n",
       "C    10\n",
       "Name: 2 Linha, dtype: int64"
      ]
     },
     "execution_count": 49,
     "metadata": {},
     "output_type": "execute_result"
    }
   ],
   "source": [
    "df_01.loc['2 Linha']"
   ]
  },
  {
   "cell_type": "code",
   "execution_count": 50,
   "id": "32ec0806",
   "metadata": {},
   "outputs": [
    {
     "data": {
      "text/html": [
       "<div>\n",
       "<style scoped>\n",
       "    .dataframe tbody tr th:only-of-type {\n",
       "        vertical-align: middle;\n",
       "    }\n",
       "\n",
       "    .dataframe tbody tr th {\n",
       "        vertical-align: top;\n",
       "    }\n",
       "\n",
       "    .dataframe thead th {\n",
       "        text-align: right;\n",
       "    }\n",
       "</style>\n",
       "<table border=\"1\" class=\"dataframe\">\n",
       "  <thead>\n",
       "    <tr style=\"text-align: right;\">\n",
       "      <th></th>\n",
       "      <th>A</th>\n",
       "      <th>B</th>\n",
       "    </tr>\n",
       "  </thead>\n",
       "  <tbody>\n",
       "    <tr>\n",
       "      <th>1 Linha</th>\n",
       "      <td>1</td>\n",
       "      <td>-3</td>\n",
       "    </tr>\n",
       "    <tr>\n",
       "      <th>2 Linha</th>\n",
       "      <td>2</td>\n",
       "      <td>-2</td>\n",
       "    </tr>\n",
       "  </tbody>\n",
       "</table>\n",
       "</div>"
      ],
      "text/plain": [
       "         A  B\n",
       "1 Linha  1 -3\n",
       "2 Linha  2 -2"
      ]
     },
     "execution_count": 50,
     "metadata": {},
     "output_type": "execute_result"
    }
   ],
   "source": [
    "df_01.loc[['1 Linha', '2 Linha'], ['A', 'B']]"
   ]
  },
  {
   "cell_type": "code",
   "execution_count": 51,
   "id": "6290a6aa",
   "metadata": {},
   "outputs": [
    {
     "data": {
      "text/html": [
       "<div>\n",
       "<style scoped>\n",
       "    .dataframe tbody tr th:only-of-type {\n",
       "        vertical-align: middle;\n",
       "    }\n",
       "\n",
       "    .dataframe tbody tr th {\n",
       "        vertical-align: top;\n",
       "    }\n",
       "\n",
       "    .dataframe thead th {\n",
       "        text-align: right;\n",
       "    }\n",
       "</style>\n",
       "<table border=\"1\" class=\"dataframe\">\n",
       "  <thead>\n",
       "    <tr style=\"text-align: right;\">\n",
       "      <th></th>\n",
       "      <th>A</th>\n",
       "      <th>B</th>\n",
       "    </tr>\n",
       "  </thead>\n",
       "  <tbody>\n",
       "    <tr>\n",
       "      <th>2 Linha</th>\n",
       "      <td>2</td>\n",
       "      <td>-2</td>\n",
       "    </tr>\n",
       "  </tbody>\n",
       "</table>\n",
       "</div>"
      ],
      "text/plain": [
       "         A  B\n",
       "2 Linha  2 -2"
      ]
     },
     "execution_count": 51,
     "metadata": {},
     "output_type": "execute_result"
    }
   ],
   "source": [
    "df_01.iloc[1:2, 0:2]"
   ]
  },
  {
   "cell_type": "code",
   "execution_count": 52,
   "id": "207e6741",
   "metadata": {},
   "outputs": [
    {
     "name": "stdout",
     "output_type": "stream",
     "text": [
      "         A  B   C\n",
      "2 Linha  2 -2  10\n",
      "3 Linha  3 -1  20\n"
     ]
    }
   ],
   "source": [
    "filtro = df_01['C']>0\n",
    "df_02 = df_01[filtro]\n",
    "print(df_02)"
   ]
  },
  {
   "cell_type": "code",
   "execution_count": 54,
   "id": "bea4c434",
   "metadata": {},
   "outputs": [
    {
     "data": {
      "text/html": [
       "<div>\n",
       "<style scoped>\n",
       "    .dataframe tbody tr th:only-of-type {\n",
       "        vertical-align: middle;\n",
       "    }\n",
       "\n",
       "    .dataframe tbody tr th {\n",
       "        vertical-align: top;\n",
       "    }\n",
       "\n",
       "    .dataframe thead th {\n",
       "        text-align: right;\n",
       "    }\n",
       "</style>\n",
       "<table border=\"1\" class=\"dataframe\">\n",
       "  <thead>\n",
       "    <tr style=\"text-align: right;\">\n",
       "      <th></th>\n",
       "      <th>A</th>\n",
       "      <th>B</th>\n",
       "      <th>C</th>\n",
       "    </tr>\n",
       "  </thead>\n",
       "  <tbody>\n",
       "    <tr>\n",
       "      <th>1 Linha</th>\n",
       "      <td>True</td>\n",
       "      <td>False</td>\n",
       "      <td>False</td>\n",
       "    </tr>\n",
       "    <tr>\n",
       "      <th>2 Linha</th>\n",
       "      <td>True</td>\n",
       "      <td>False</td>\n",
       "      <td>True</td>\n",
       "    </tr>\n",
       "    <tr>\n",
       "      <th>3 Linha</th>\n",
       "      <td>True</td>\n",
       "      <td>False</td>\n",
       "      <td>True</td>\n",
       "    </tr>\n",
       "  </tbody>\n",
       "</table>\n",
       "</div>"
      ],
      "text/plain": [
       "            A      B      C\n",
       "1 Linha  True  False  False\n",
       "2 Linha  True  False   True\n",
       "3 Linha  True  False   True"
      ]
     },
     "execution_count": 54,
     "metadata": {},
     "output_type": "execute_result"
    }
   ],
   "source": [
    "df_01>0"
   ]
  },
  {
   "cell_type": "code",
   "execution_count": 55,
   "id": "30878ef9",
   "metadata": {},
   "outputs": [
    {
     "data": {
      "text/html": [
       "<div>\n",
       "<style scoped>\n",
       "    .dataframe tbody tr th:only-of-type {\n",
       "        vertical-align: middle;\n",
       "    }\n",
       "\n",
       "    .dataframe tbody tr th {\n",
       "        vertical-align: top;\n",
       "    }\n",
       "\n",
       "    .dataframe thead th {\n",
       "        text-align: right;\n",
       "    }\n",
       "</style>\n",
       "<table border=\"1\" class=\"dataframe\">\n",
       "  <thead>\n",
       "    <tr style=\"text-align: right;\">\n",
       "      <th></th>\n",
       "      <th>A</th>\n",
       "      <th>B</th>\n",
       "      <th>C</th>\n",
       "    </tr>\n",
       "  </thead>\n",
       "  <tbody>\n",
       "    <tr>\n",
       "      <th>2 Linha</th>\n",
       "      <td>2</td>\n",
       "      <td>-2</td>\n",
       "      <td>10</td>\n",
       "    </tr>\n",
       "    <tr>\n",
       "      <th>3 Linha</th>\n",
       "      <td>3</td>\n",
       "      <td>-1</td>\n",
       "      <td>20</td>\n",
       "    </tr>\n",
       "  </tbody>\n",
       "</table>\n",
       "</div>"
      ],
      "text/plain": [
       "         A  B   C\n",
       "2 Linha  2 -2  10\n",
       "3 Linha  3 -1  20"
      ]
     },
     "execution_count": 55,
     "metadata": {},
     "output_type": "execute_result"
    }
   ],
   "source": [
    "df_01[(df_01['A']>1)& (df_01['C']>0)]"
   ]
  },
  {
   "cell_type": "code",
   "execution_count": 56,
   "id": "2527a89f",
   "metadata": {},
   "outputs": [
    {
     "data": {
      "text/html": [
       "<div>\n",
       "<style scoped>\n",
       "    .dataframe tbody tr th:only-of-type {\n",
       "        vertical-align: middle;\n",
       "    }\n",
       "\n",
       "    .dataframe tbody tr th {\n",
       "        vertical-align: top;\n",
       "    }\n",
       "\n",
       "    .dataframe thead th {\n",
       "        text-align: right;\n",
       "    }\n",
       "</style>\n",
       "<table border=\"1\" class=\"dataframe\">\n",
       "  <thead>\n",
       "    <tr style=\"text-align: right;\">\n",
       "      <th></th>\n",
       "      <th>A</th>\n",
       "      <th>B</th>\n",
       "      <th>C</th>\n",
       "    </tr>\n",
       "  </thead>\n",
       "  <tbody>\n",
       "    <tr>\n",
       "      <th>2 Linha</th>\n",
       "      <td>2</td>\n",
       "      <td>-2</td>\n",
       "      <td>10</td>\n",
       "    </tr>\n",
       "    <tr>\n",
       "      <th>3 Linha</th>\n",
       "      <td>3</td>\n",
       "      <td>-1</td>\n",
       "      <td>20</td>\n",
       "    </tr>\n",
       "  </tbody>\n",
       "</table>\n",
       "</div>"
      ],
      "text/plain": [
       "         A  B   C\n",
       "2 Linha  2 -2  10\n",
       "3 Linha  3 -1  20"
      ]
     },
     "execution_count": 56,
     "metadata": {},
     "output_type": "execute_result"
    }
   ],
   "source": [
    "df_01[(df_01['A']>1) |(df_01['C']>0)]"
   ]
  },
  {
   "cell_type": "code",
   "execution_count": 58,
   "id": "7ee5e764",
   "metadata": {},
   "outputs": [
    {
     "data": {
      "text/html": [
       "<div>\n",
       "<style scoped>\n",
       "    .dataframe tbody tr th:only-of-type {\n",
       "        vertical-align: middle;\n",
       "    }\n",
       "\n",
       "    .dataframe tbody tr th {\n",
       "        vertical-align: top;\n",
       "    }\n",
       "\n",
       "    .dataframe thead th {\n",
       "        text-align: right;\n",
       "    }\n",
       "</style>\n",
       "<table border=\"1\" class=\"dataframe\">\n",
       "  <thead>\n",
       "    <tr style=\"text-align: right;\">\n",
       "      <th></th>\n",
       "      <th>index</th>\n",
       "      <th>A</th>\n",
       "      <th>B</th>\n",
       "      <th>C</th>\n",
       "    </tr>\n",
       "  </thead>\n",
       "  <tbody>\n",
       "    <tr>\n",
       "      <th>0</th>\n",
       "      <td>1 Linha</td>\n",
       "      <td>1</td>\n",
       "      <td>-3</td>\n",
       "      <td>0</td>\n",
       "    </tr>\n",
       "    <tr>\n",
       "      <th>1</th>\n",
       "      <td>2 Linha</td>\n",
       "      <td>2</td>\n",
       "      <td>-2</td>\n",
       "      <td>10</td>\n",
       "    </tr>\n",
       "    <tr>\n",
       "      <th>2</th>\n",
       "      <td>3 Linha</td>\n",
       "      <td>3</td>\n",
       "      <td>-1</td>\n",
       "      <td>20</td>\n",
       "    </tr>\n",
       "  </tbody>\n",
       "</table>\n",
       "</div>"
      ],
      "text/plain": [
       "     index  A  B   C\n",
       "0  1 Linha  1 -3   0\n",
       "1  2 Linha  2 -2  10\n",
       "2  3 Linha  3 -1  20"
      ]
     },
     "execution_count": 58,
     "metadata": {},
     "output_type": "execute_result"
    }
   ],
   "source": [
    "df_01.reset_index()"
   ]
  },
  {
   "cell_type": "code",
   "execution_count": 63,
   "id": "6abc6260",
   "metadata": {},
   "outputs": [
    {
     "data": {
      "text/html": [
       "<div>\n",
       "<style scoped>\n",
       "    .dataframe tbody tr th:only-of-type {\n",
       "        vertical-align: middle;\n",
       "    }\n",
       "\n",
       "    .dataframe tbody tr th {\n",
       "        vertical-align: top;\n",
       "    }\n",
       "\n",
       "    .dataframe thead th {\n",
       "        text-align: right;\n",
       "    }\n",
       "</style>\n",
       "<table border=\"1\" class=\"dataframe\">\n",
       "  <thead>\n",
       "    <tr style=\"text-align: right;\">\n",
       "      <th></th>\n",
       "      <th>index</th>\n",
       "      <th>A</th>\n",
       "      <th>B</th>\n",
       "      <th>C</th>\n",
       "    </tr>\n",
       "  </thead>\n",
       "  <tbody>\n",
       "    <tr>\n",
       "      <th>0</th>\n",
       "      <td>1 Linha</td>\n",
       "      <td>1</td>\n",
       "      <td>-3</td>\n",
       "      <td>0</td>\n",
       "    </tr>\n",
       "    <tr>\n",
       "      <th>1</th>\n",
       "      <td>2 Linha</td>\n",
       "      <td>2</td>\n",
       "      <td>-2</td>\n",
       "      <td>10</td>\n",
       "    </tr>\n",
       "    <tr>\n",
       "      <th>2</th>\n",
       "      <td>3 Linha</td>\n",
       "      <td>3</td>\n",
       "      <td>-1</td>\n",
       "      <td>20</td>\n",
       "    </tr>\n",
       "  </tbody>\n",
       "</table>\n",
       "</div>"
      ],
      "text/plain": [
       "     index  A  B   C\n",
       "0  1 Linha  1 -3   0\n",
       "1  2 Linha  2 -2  10\n",
       "2  3 Linha  3 -1  20"
      ]
     },
     "execution_count": 63,
     "metadata": {},
     "output_type": "execute_result"
    }
   ],
   "source": [
    "df_01"
   ]
  },
  {
   "cell_type": "code",
   "execution_count": 60,
   "id": "8f75cdae",
   "metadata": {},
   "outputs": [],
   "source": [
    "df_01.reset_index(inplace=True)"
   ]
  },
  {
   "cell_type": "code",
   "execution_count": 62,
   "id": "00fbb172",
   "metadata": {},
   "outputs": [
    {
     "data": {
      "text/html": [
       "<div>\n",
       "<style scoped>\n",
       "    .dataframe tbody tr th:only-of-type {\n",
       "        vertical-align: middle;\n",
       "    }\n",
       "\n",
       "    .dataframe tbody tr th {\n",
       "        vertical-align: top;\n",
       "    }\n",
       "\n",
       "    .dataframe thead th {\n",
       "        text-align: right;\n",
       "    }\n",
       "</style>\n",
       "<table border=\"1\" class=\"dataframe\">\n",
       "  <thead>\n",
       "    <tr style=\"text-align: right;\">\n",
       "      <th></th>\n",
       "      <th>index</th>\n",
       "      <th>A</th>\n",
       "      <th>B</th>\n",
       "      <th>C</th>\n",
       "    </tr>\n",
       "  </thead>\n",
       "  <tbody>\n",
       "    <tr>\n",
       "      <th>0</th>\n",
       "      <td>1 Linha</td>\n",
       "      <td>1</td>\n",
       "      <td>-3</td>\n",
       "      <td>0</td>\n",
       "    </tr>\n",
       "    <tr>\n",
       "      <th>1</th>\n",
       "      <td>2 Linha</td>\n",
       "      <td>2</td>\n",
       "      <td>-2</td>\n",
       "      <td>10</td>\n",
       "    </tr>\n",
       "    <tr>\n",
       "      <th>2</th>\n",
       "      <td>3 Linha</td>\n",
       "      <td>3</td>\n",
       "      <td>-1</td>\n",
       "      <td>20</td>\n",
       "    </tr>\n",
       "  </tbody>\n",
       "</table>\n",
       "</div>"
      ],
      "text/plain": [
       "     index  A  B   C\n",
       "0  1 Linha  1 -3   0\n",
       "1  2 Linha  2 -2  10\n",
       "2  3 Linha  3 -1  20"
      ]
     },
     "execution_count": 62,
     "metadata": {},
     "output_type": "execute_result"
    }
   ],
   "source": [
    "df_01"
   ]
  },
  {
   "cell_type": "code",
   "execution_count": 64,
   "id": "cbcbc1d4",
   "metadata": {},
   "outputs": [],
   "source": [
    "df_01.drop('index', axis=1, inplace=True)"
   ]
  },
  {
   "cell_type": "code",
   "execution_count": 65,
   "id": "03ab5199",
   "metadata": {},
   "outputs": [
    {
     "data": {
      "text/html": [
       "<div>\n",
       "<style scoped>\n",
       "    .dataframe tbody tr th:only-of-type {\n",
       "        vertical-align: middle;\n",
       "    }\n",
       "\n",
       "    .dataframe tbody tr th {\n",
       "        vertical-align: top;\n",
       "    }\n",
       "\n",
       "    .dataframe thead th {\n",
       "        text-align: right;\n",
       "    }\n",
       "</style>\n",
       "<table border=\"1\" class=\"dataframe\">\n",
       "  <thead>\n",
       "    <tr style=\"text-align: right;\">\n",
       "      <th></th>\n",
       "      <th>A</th>\n",
       "      <th>B</th>\n",
       "      <th>C</th>\n",
       "    </tr>\n",
       "  </thead>\n",
       "  <tbody>\n",
       "    <tr>\n",
       "      <th>0</th>\n",
       "      <td>1</td>\n",
       "      <td>-3</td>\n",
       "      <td>0</td>\n",
       "    </tr>\n",
       "    <tr>\n",
       "      <th>1</th>\n",
       "      <td>2</td>\n",
       "      <td>-2</td>\n",
       "      <td>10</td>\n",
       "    </tr>\n",
       "    <tr>\n",
       "      <th>2</th>\n",
       "      <td>3</td>\n",
       "      <td>-1</td>\n",
       "      <td>20</td>\n",
       "    </tr>\n",
       "  </tbody>\n",
       "</table>\n",
       "</div>"
      ],
      "text/plain": [
       "   A  B   C\n",
       "0  1 -3   0\n",
       "1  2 -2  10\n",
       "2  3 -1  20"
      ]
     },
     "execution_count": 65,
     "metadata": {},
     "output_type": "execute_result"
    }
   ],
   "source": [
    "df_01"
   ]
  },
  {
   "cell_type": "code",
   "execution_count": 67,
   "id": "22fd330c",
   "metadata": {},
   "outputs": [],
   "source": [
    "dicionario02A = {\n",
    "    'A': [1,2,3],\n",
    "    'B': [-32, -21, -15],\n",
    "    'C': [60,10,20],\n",
    "    'Chave': ['AA', 'BB', 'CC']\n",
    "}\n",
    "\n",
    "dicionario02B = {\n",
    "    'A': [6,7,8],\n",
    "    'B': [-39, -28, -17],\n",
    "    'C': [1000,10,60],\n",
    "    'Chave': ['AA', 'BB', 'CC']\n",
    "}\n",
    "\n",
    "dicionario02C = {\n",
    "    'A': [11, 12, 13],\n",
    "    'B': [-39, -22, -11],\n",
    "    'C': [30,10,20],\n",
    "    'Chave': ['AA', 'BB', 'CC']\n",
    "}\n",
    "\n",
    "label_01 = ['1 Linha', '2 Linha', '3 Linha']\n",
    "label_02 = ['4 Linha', '5 Linha', '6 Linha']\n",
    "label_03 = ['7 Linha', '8 Linha', '9 Linha']"
   ]
  },
  {
   "cell_type": "code",
   "execution_count": 68,
   "id": "ac281429",
   "metadata": {},
   "outputs": [],
   "source": [
    "df_03a = pd.DataFrame(dicionario02A)\n",
    "df_03b = pd.DataFrame(dicionario02B)\n",
    "df_03c = pd.DataFrame(dicionario02C)"
   ]
  },
  {
   "cell_type": "code",
   "execution_count": 69,
   "id": "28aa61d1",
   "metadata": {},
   "outputs": [
    {
     "data": {
      "text/html": [
       "<div>\n",
       "<style scoped>\n",
       "    .dataframe tbody tr th:only-of-type {\n",
       "        vertical-align: middle;\n",
       "    }\n",
       "\n",
       "    .dataframe tbody tr th {\n",
       "        vertical-align: top;\n",
       "    }\n",
       "\n",
       "    .dataframe thead th {\n",
       "        text-align: right;\n",
       "    }\n",
       "</style>\n",
       "<table border=\"1\" class=\"dataframe\">\n",
       "  <thead>\n",
       "    <tr style=\"text-align: right;\">\n",
       "      <th></th>\n",
       "      <th>A</th>\n",
       "      <th>B</th>\n",
       "      <th>C</th>\n",
       "      <th>Chave</th>\n",
       "    </tr>\n",
       "  </thead>\n",
       "  <tbody>\n",
       "    <tr>\n",
       "      <th>0</th>\n",
       "      <td>1</td>\n",
       "      <td>-32</td>\n",
       "      <td>60</td>\n",
       "      <td>AA</td>\n",
       "    </tr>\n",
       "    <tr>\n",
       "      <th>1</th>\n",
       "      <td>2</td>\n",
       "      <td>-21</td>\n",
       "      <td>10</td>\n",
       "      <td>BB</td>\n",
       "    </tr>\n",
       "    <tr>\n",
       "      <th>2</th>\n",
       "      <td>3</td>\n",
       "      <td>-15</td>\n",
       "      <td>20</td>\n",
       "      <td>CC</td>\n",
       "    </tr>\n",
       "  </tbody>\n",
       "</table>\n",
       "</div>"
      ],
      "text/plain": [
       "   A   B   C Chave\n",
       "0  1 -32  60    AA\n",
       "1  2 -21  10    BB\n",
       "2  3 -15  20    CC"
      ]
     },
     "execution_count": 69,
     "metadata": {},
     "output_type": "execute_result"
    }
   ],
   "source": [
    "df_03a"
   ]
  },
  {
   "cell_type": "code",
   "execution_count": 71,
   "id": "945909d2",
   "metadata": {},
   "outputs": [
    {
     "data": {
      "text/html": [
       "<div>\n",
       "<style scoped>\n",
       "    .dataframe tbody tr th:only-of-type {\n",
       "        vertical-align: middle;\n",
       "    }\n",
       "\n",
       "    .dataframe tbody tr th {\n",
       "        vertical-align: top;\n",
       "    }\n",
       "\n",
       "    .dataframe thead th {\n",
       "        text-align: right;\n",
       "    }\n",
       "</style>\n",
       "<table border=\"1\" class=\"dataframe\">\n",
       "  <thead>\n",
       "    <tr style=\"text-align: right;\">\n",
       "      <th></th>\n",
       "      <th>A</th>\n",
       "      <th>B</th>\n",
       "      <th>C</th>\n",
       "      <th>Chave</th>\n",
       "    </tr>\n",
       "  </thead>\n",
       "  <tbody>\n",
       "    <tr>\n",
       "      <th>0</th>\n",
       "      <td>1</td>\n",
       "      <td>-32</td>\n",
       "      <td>60</td>\n",
       "      <td>AA</td>\n",
       "    </tr>\n",
       "    <tr>\n",
       "      <th>1</th>\n",
       "      <td>2</td>\n",
       "      <td>-21</td>\n",
       "      <td>10</td>\n",
       "      <td>BB</td>\n",
       "    </tr>\n",
       "    <tr>\n",
       "      <th>2</th>\n",
       "      <td>3</td>\n",
       "      <td>-15</td>\n",
       "      <td>20</td>\n",
       "      <td>CC</td>\n",
       "    </tr>\n",
       "    <tr>\n",
       "      <th>0</th>\n",
       "      <td>6</td>\n",
       "      <td>-39</td>\n",
       "      <td>1000</td>\n",
       "      <td>AA</td>\n",
       "    </tr>\n",
       "    <tr>\n",
       "      <th>1</th>\n",
       "      <td>7</td>\n",
       "      <td>-28</td>\n",
       "      <td>10</td>\n",
       "      <td>BB</td>\n",
       "    </tr>\n",
       "    <tr>\n",
       "      <th>2</th>\n",
       "      <td>8</td>\n",
       "      <td>-17</td>\n",
       "      <td>60</td>\n",
       "      <td>CC</td>\n",
       "    </tr>\n",
       "    <tr>\n",
       "      <th>0</th>\n",
       "      <td>11</td>\n",
       "      <td>-39</td>\n",
       "      <td>30</td>\n",
       "      <td>AA</td>\n",
       "    </tr>\n",
       "    <tr>\n",
       "      <th>1</th>\n",
       "      <td>12</td>\n",
       "      <td>-22</td>\n",
       "      <td>10</td>\n",
       "      <td>BB</td>\n",
       "    </tr>\n",
       "    <tr>\n",
       "      <th>2</th>\n",
       "      <td>13</td>\n",
       "      <td>-11</td>\n",
       "      <td>20</td>\n",
       "      <td>CC</td>\n",
       "    </tr>\n",
       "  </tbody>\n",
       "</table>\n",
       "</div>"
      ],
      "text/plain": [
       "    A   B     C Chave\n",
       "0   1 -32    60    AA\n",
       "1   2 -21    10    BB\n",
       "2   3 -15    20    CC\n",
       "0   6 -39  1000    AA\n",
       "1   7 -28    10    BB\n",
       "2   8 -17    60    CC\n",
       "0  11 -39    30    AA\n",
       "1  12 -22    10    BB\n",
       "2  13 -11    20    CC"
      ]
     },
     "execution_count": 71,
     "metadata": {},
     "output_type": "execute_result"
    }
   ],
   "source": [
    "pd.concat([df_03a, df_03b, df_03c])"
   ]
  },
  {
   "cell_type": "code",
   "execution_count": 73,
   "id": "d49f26c7",
   "metadata": {},
   "outputs": [
    {
     "data": {
      "text/html": [
       "<div>\n",
       "<style scoped>\n",
       "    .dataframe tbody tr th:only-of-type {\n",
       "        vertical-align: middle;\n",
       "    }\n",
       "\n",
       "    .dataframe tbody tr th {\n",
       "        vertical-align: top;\n",
       "    }\n",
       "\n",
       "    .dataframe thead th {\n",
       "        text-align: right;\n",
       "    }\n",
       "</style>\n",
       "<table border=\"1\" class=\"dataframe\">\n",
       "  <thead>\n",
       "    <tr style=\"text-align: right;\">\n",
       "      <th></th>\n",
       "      <th>A_x</th>\n",
       "      <th>B_x</th>\n",
       "      <th>C_x</th>\n",
       "      <th>Chave</th>\n",
       "      <th>A_y</th>\n",
       "      <th>B_y</th>\n",
       "      <th>C_y</th>\n",
       "    </tr>\n",
       "  </thead>\n",
       "  <tbody>\n",
       "    <tr>\n",
       "      <th>0</th>\n",
       "      <td>1</td>\n",
       "      <td>-32</td>\n",
       "      <td>60</td>\n",
       "      <td>AA</td>\n",
       "      <td>6</td>\n",
       "      <td>-39</td>\n",
       "      <td>1000</td>\n",
       "    </tr>\n",
       "    <tr>\n",
       "      <th>1</th>\n",
       "      <td>2</td>\n",
       "      <td>-21</td>\n",
       "      <td>10</td>\n",
       "      <td>BB</td>\n",
       "      <td>7</td>\n",
       "      <td>-28</td>\n",
       "      <td>10</td>\n",
       "    </tr>\n",
       "    <tr>\n",
       "      <th>2</th>\n",
       "      <td>3</td>\n",
       "      <td>-15</td>\n",
       "      <td>20</td>\n",
       "      <td>CC</td>\n",
       "      <td>8</td>\n",
       "      <td>-17</td>\n",
       "      <td>60</td>\n",
       "    </tr>\n",
       "  </tbody>\n",
       "</table>\n",
       "</div>"
      ],
      "text/plain": [
       "   A_x  B_x  C_x Chave  A_y  B_y   C_y\n",
       "0    1  -32   60    AA    6  -39  1000\n",
       "1    2  -21   10    BB    7  -28    10\n",
       "2    3  -15   20    CC    8  -17    60"
      ]
     },
     "execution_count": 73,
     "metadata": {},
     "output_type": "execute_result"
    }
   ],
   "source": [
    "pd.merge(df_03a, df_03b, how='inner', on='Chave')"
   ]
  },
  {
   "cell_type": "code",
   "execution_count": 74,
   "id": "3de2880c",
   "metadata": {},
   "outputs": [
    {
     "data": {
      "text/html": [
       "<div>\n",
       "<style scoped>\n",
       "    .dataframe tbody tr th:only-of-type {\n",
       "        vertical-align: middle;\n",
       "    }\n",
       "\n",
       "    .dataframe tbody tr th {\n",
       "        vertical-align: top;\n",
       "    }\n",
       "\n",
       "    .dataframe thead th {\n",
       "        text-align: right;\n",
       "    }\n",
       "</style>\n",
       "<table border=\"1\" class=\"dataframe\">\n",
       "  <thead>\n",
       "    <tr style=\"text-align: right;\">\n",
       "      <th></th>\n",
       "      <th>A_x</th>\n",
       "      <th>B_x</th>\n",
       "      <th>C_x</th>\n",
       "      <th>Chave</th>\n",
       "      <th>A_y</th>\n",
       "      <th>B_y</th>\n",
       "      <th>C_y</th>\n",
       "    </tr>\n",
       "  </thead>\n",
       "  <tbody>\n",
       "    <tr>\n",
       "      <th>0</th>\n",
       "      <td>1</td>\n",
       "      <td>-32</td>\n",
       "      <td>60</td>\n",
       "      <td>AA</td>\n",
       "      <td>6</td>\n",
       "      <td>-39</td>\n",
       "      <td>1000</td>\n",
       "    </tr>\n",
       "    <tr>\n",
       "      <th>1</th>\n",
       "      <td>2</td>\n",
       "      <td>-21</td>\n",
       "      <td>10</td>\n",
       "      <td>BB</td>\n",
       "      <td>7</td>\n",
       "      <td>-28</td>\n",
       "      <td>10</td>\n",
       "    </tr>\n",
       "    <tr>\n",
       "      <th>2</th>\n",
       "      <td>3</td>\n",
       "      <td>-15</td>\n",
       "      <td>20</td>\n",
       "      <td>CC</td>\n",
       "      <td>8</td>\n",
       "      <td>-17</td>\n",
       "      <td>60</td>\n",
       "    </tr>\n",
       "  </tbody>\n",
       "</table>\n",
       "</div>"
      ],
      "text/plain": [
       "   A_x  B_x  C_x Chave  A_y  B_y   C_y\n",
       "0    1  -32   60    AA    6  -39  1000\n",
       "1    2  -21   10    BB    7  -28    10\n",
       "2    3  -15   20    CC    8  -17    60"
      ]
     },
     "execution_count": 74,
     "metadata": {},
     "output_type": "execute_result"
    }
   ],
   "source": [
    "pd.merge(df_03a, df_03b, how='left', on='Chave')"
   ]
  },
  {
   "cell_type": "code",
   "execution_count": 76,
   "id": "aff4a52e",
   "metadata": {},
   "outputs": [],
   "source": [
    "dic1 = {\n",
    "    'A':[1,2,3],\n",
    "    'B':[-32,-21,-15],\n",
    "    'C':[60,10,20]\n",
    "}\n",
    "\n",
    "dic2={\n",
    "    'D':[6,7,8],\n",
    "    'E':[-39,-28,-27],\n",
    "    'F':[1000,10,60]\n",
    "}\n",
    "\n",
    "Label_01a = ['1ª Linha','2ª Linha','3ª Linha']\n",
    "\n",
    "df01 = pd.DataFrame(dic1,index= Label_01a)\n",
    "df02 = pd.DataFrame(dic2,index= Label_01a)"
   ]
  },
  {
   "cell_type": "code",
   "execution_count": 77,
   "id": "b7347db9",
   "metadata": {},
   "outputs": [
    {
     "data": {
      "text/html": [
       "<div>\n",
       "<style scoped>\n",
       "    .dataframe tbody tr th:only-of-type {\n",
       "        vertical-align: middle;\n",
       "    }\n",
       "\n",
       "    .dataframe tbody tr th {\n",
       "        vertical-align: top;\n",
       "    }\n",
       "\n",
       "    .dataframe thead th {\n",
       "        text-align: right;\n",
       "    }\n",
       "</style>\n",
       "<table border=\"1\" class=\"dataframe\">\n",
       "  <thead>\n",
       "    <tr style=\"text-align: right;\">\n",
       "      <th></th>\n",
       "      <th>A</th>\n",
       "      <th>B</th>\n",
       "      <th>C</th>\n",
       "      <th>D</th>\n",
       "      <th>E</th>\n",
       "      <th>F</th>\n",
       "    </tr>\n",
       "  </thead>\n",
       "  <tbody>\n",
       "    <tr>\n",
       "      <th>1ª Linha</th>\n",
       "      <td>1</td>\n",
       "      <td>-32</td>\n",
       "      <td>60</td>\n",
       "      <td>6</td>\n",
       "      <td>-39</td>\n",
       "      <td>1000</td>\n",
       "    </tr>\n",
       "    <tr>\n",
       "      <th>2ª Linha</th>\n",
       "      <td>2</td>\n",
       "      <td>-21</td>\n",
       "      <td>10</td>\n",
       "      <td>7</td>\n",
       "      <td>-28</td>\n",
       "      <td>10</td>\n",
       "    </tr>\n",
       "    <tr>\n",
       "      <th>3ª Linha</th>\n",
       "      <td>3</td>\n",
       "      <td>-15</td>\n",
       "      <td>20</td>\n",
       "      <td>8</td>\n",
       "      <td>-27</td>\n",
       "      <td>60</td>\n",
       "    </tr>\n",
       "  </tbody>\n",
       "</table>\n",
       "</div>"
      ],
      "text/plain": [
       "          A   B   C  D   E     F\n",
       "1ª Linha  1 -32  60  6 -39  1000\n",
       "2ª Linha  2 -21  10  7 -28    10\n",
       "3ª Linha  3 -15  20  8 -27    60"
      ]
     },
     "execution_count": 77,
     "metadata": {},
     "output_type": "execute_result"
    }
   ],
   "source": [
    "df01.join(df02)"
   ]
  }
 ],
 "metadata": {
  "kernelspec": {
   "display_name": "Python 3",
   "language": "python",
   "name": "python3"
  },
  "language_info": {
   "codemirror_mode": {
    "name": "ipython",
    "version": 3
   },
   "file_extension": ".py",
   "mimetype": "text/x-python",
   "name": "python",
   "nbconvert_exporter": "python",
   "pygments_lexer": "ipython3",
   "version": "3.13.1"
  }
 },
 "nbformat": 4,
 "nbformat_minor": 5
}
